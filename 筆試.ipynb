{
  "nbformat": 4,
  "nbformat_minor": 0,
  "metadata": {
    "colab": {
      "provenance": [],
      "authorship_tag": "ABX9TyO4RqjRfI2tb73b+ZFweG1+",
      "include_colab_link": true
    },
    "kernelspec": {
      "name": "python3",
      "display_name": "Python 3"
    },
    "language_info": {
      "name": "python"
    }
  },
  "cells": [
    {
      "cell_type": "markdown",
      "metadata": {
        "id": "view-in-github",
        "colab_type": "text"
      },
      "source": [
        "<a href=\"https://colab.research.google.com/github/changlinfan/card-Expected-value/blob/main/%E7%AD%86%E8%A9%A6.ipynb\" target=\"_parent\"><img src=\"https://colab.research.google.com/assets/colab-badge.svg\" alt=\"Open In Colab\"/></a>"
      ]
    },
    {
      "cell_type": "code",
      "execution_count": 20,
      "metadata": {
        "colab": {
          "base_uri": "https://localhost:8080/"
        },
        "id": "KuxJ2aCYUVps",
        "outputId": "34564dde-7ba5-4b29-b937-7a058f5a032c"
      },
      "outputs": [
        {
          "output_type": "stream",
          "name": "stdout",
          "text": [
            "   total_draws  head_wins  second_wins    ph_emp    ps_emp\n",
            "0       400000      18355        38998  0.045887  0.097495\n",
            "     emp_ph    emp_ps  second_prize_Y  head_prize_X  expected_payout_check\n",
            "0  0.045887  0.097495      137.643091    688.215457                   45.0\n"
          ]
        }
      ],
      "source": [
        "import random\n",
        "import numpy as np\n",
        "import pandas as pd\n",
        "\n",
        "def simulate(num_accounts=10000, draws_per_account=100, prob_head=0.05, prob_second=0.10, proportion_new=0.5, seed=42):\n",
        "    random.seed(seed)\n",
        "    np.random.seed(seed)\n",
        "\n",
        "    total_draws = 0 #總抽數\n",
        "    head_wins = 0 #頭獎數\n",
        "    second_wins = 0 #2獎數\n",
        "\n",
        "    for acc in range(num_accounts): #模擬每個帳號\n",
        "        is_new = (random.random() < proportion_new) #新手帳號比例\n",
        "        consec_misses = 0 #連續沒中次數\n",
        "        prev_was_win = False #前一次是否中獎\n",
        "        first5 = [] #紀錄新手前5抽\n",
        "        first5_forced = False #判定是否為新手\n",
        "\n",
        "        for draw_index in range(draws_per_account): #模擬同一帳號的每一次抽獎\n",
        "            total_draws += 1\n",
        "            # 累積的總抽數\n",
        "            ph = prob_head\n",
        "            ps = prob_second\n",
        "            if prev_was_win:\n",
        "                # 若上一抽中獎，則將兩個機率減半\n",
        "                ph *= 0.5\n",
        "                ps *= 0.5\n",
        "            if consec_misses >= 19:\n",
        "                # 硬保底20抽\n",
        "                second_wins += 1\n",
        "                consec_misses = 0\n",
        "                prev_was_win = True\n",
        "\n",
        "                if is_new and draw_index < 5:\n",
        "                    first5.append('S')  #新手保底\n",
        "                continue\n",
        "\n",
        "            # 用 r < ph 判斷中頭獎。\n",
        "            r = random.random()\n",
        "            if r < ph:\n",
        "                head_wins += 1\n",
        "                consec_misses = 0\n",
        "                prev_was_win = True\n",
        "                if is_new and draw_index < 5:\n",
        "                    first5.append('H')\n",
        "                    #若是新手且在前 5 抽，記錄結果H。\n",
        "            elif r < (ph + ps):\n",
        "                second_wins += 1\n",
        "                consec_misses = 0\n",
        "                prev_was_win = True\n",
        "                if is_new and draw_index < 5:\n",
        "                    first5.append('S')\n",
        "                    #若是新手且在前 5 抽，記錄結果S。\n",
        "            else:\n",
        "                #LOSE\n",
        "                consec_misses += 1\n",
        "                prev_was_win = False\n",
        "                if is_new and draw_index < 5:\n",
        "                    first5.append('M')\n",
        "                    #標記為沒中M\n",
        "\n",
        "\n",
        "            if is_new and (draw_index == 4) and (not first5_forced):\n",
        "                # 如果前 5 抽全部都是 M，就在第 5 抽補發一個貳獎\n",
        "                if all(x == 'M' for x in first5):\n",
        "                    consec_misses = 0\n",
        "                    prev_was_win = True\n",
        "                #將其標記避免重複觸發新手獎勵\n",
        "                first5_forced = True\n",
        "\n",
        "\n",
        "    ph_emp = head_wins / total_draws\n",
        "    ps_emp = second_wins / total_draws\n",
        "    return {\n",
        "        \"total_draws\": total_draws,\n",
        "        \"head_wins\": head_wins,\n",
        "        \"second_wins\": second_wins,\n",
        "        \"ph_emp\": ph_emp,\n",
        "        \"ps_emp\": ps_emp\n",
        "    }\n",
        "\n",
        "# 10000帳號 每人40抽\n",
        "res = simulate(num_accounts=10000, draws_per_account=40, prob_head=0.05, prob_second=0.10, proportion_new=0.5, seed=42)\n",
        "df_res=pd.DataFrame([res])\n",
        "ph = res['ph_emp']\n",
        "ps = res['ps_emp']\n",
        "\n",
        "# 期望值\n",
        "Y = 45.0 / (5*ph + ps)\n",
        "X = 5 * Y\n",
        "\n",
        "df_expected=pd.DataFrame([{\n",
        "    \"emp_ph\": ph,\n",
        "    \"emp_ps\": ps,\n",
        "    \"second_prize_Y\": Y,\n",
        "    \"head_prize_X\": X,\n",
        "    \"expected_payout_check\": ph*X + ps*Y\n",
        "}])\n",
        "print(df_res)\n",
        "print(df_expected)\n"
      ]
    },
    {
      "cell_type": "code",
      "source": [
        "#引入中文的模組\n",
        "!wget -O TaipeiSansTCBeta-Regular.ttf https://drive.google.com/uc?id=1eGAsTN1HBpJAkeVM57_C7ccp7hbgSz3_&export=download\n",
        "import matplotlib as mpl\n",
        "import matplotlib.pyplot as plt\n",
        "from matplotlib.font_manager import fontManager\n",
        "\n",
        "fontManager.addfont('TaipeiSansTCBeta-Regular.ttf')\n",
        "mpl.rc('font', family='Taipei Sans TC Beta')"
      ],
      "metadata": {
        "colab": {
          "base_uri": "https://localhost:8080/"
        },
        "id": "gQH627oZW3W3",
        "outputId": "ba7daddc-c043-4f56-8504-78563c400d5e"
      },
      "execution_count": 1,
      "outputs": [
        {
          "output_type": "stream",
          "name": "stdout",
          "text": [
            "--2025-08-12 06:14:51--  https://drive.google.com/uc?id=1eGAsTN1HBpJAkeVM57_C7ccp7hbgSz3_\n",
            "Resolving drive.google.com (drive.google.com)... 142.251.107.100, 142.251.107.139, 142.251.107.102, ...\n",
            "Connecting to drive.google.com (drive.google.com)|142.251.107.100|:443... connected.\n",
            "HTTP request sent, awaiting response... 303 See Other\n",
            "Location: https://drive.usercontent.google.com/download?id=1eGAsTN1HBpJAkeVM57_C7ccp7hbgSz3_ [following]\n",
            "--2025-08-12 06:14:51--  https://drive.usercontent.google.com/download?id=1eGAsTN1HBpJAkeVM57_C7ccp7hbgSz3_\n",
            "Resolving drive.usercontent.google.com (drive.usercontent.google.com)... 173.194.217.132, 2607:f8b0:400c:c05::84\n",
            "Connecting to drive.usercontent.google.com (drive.usercontent.google.com)|173.194.217.132|:443... connected.\n",
            "HTTP request sent, awaiting response... 200 OK\n",
            "Length: 20659344 (20M) [application/octet-stream]\n",
            "Saving to: ‘TaipeiSansTCBeta-Regular.ttf’\n",
            "\n",
            "TaipeiSansTCBeta-Re 100%[===================>]  19.70M  51.0MB/s    in 0.4s    \n",
            "\n",
            "2025-08-12 06:14:54 (51.0 MB/s) - ‘TaipeiSansTCBeta-Regular.ttf’ saved [20659344/20659344]\n",
            "\n"
          ]
        }
      ]
    }
  ]
}